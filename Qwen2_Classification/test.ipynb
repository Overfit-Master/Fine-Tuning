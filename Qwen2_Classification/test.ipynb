{
 "cells": [
  {
   "cell_type": "markdown",
   "id": "ce54984b",
   "metadata": {},
   "source": [
    "# 模型合并\n",
    "\n",
    "Lora微调后只会保存微调的部分参数，此处通过加载原始模型和Lora部分结合后存为新的模型，之后即可直接加载新模型进行使用"
   ]
  },
  {
   "cell_type": "code",
   "execution_count": 6,
   "id": "c34add64",
   "metadata": {},
   "outputs": [],
   "source": [
    "from transformers import AutoModelForCausalLM\n",
    "from peft import PeftModel\n",
    "import os"
   ]
  },
  {
   "cell_type": "code",
   "execution_count": 3,
   "id": "4d0527ee",
   "metadata": {},
   "outputs": [],
   "source": [
    "# 加载Qwen原模型\n",
    "model = AutoModelForCausalLM.from_pretrained(\"Qwen/Qwen2.5-1.5B-Instruct\")\n",
    "\n",
    "# 转为peft模型\n",
    "lora_weight = os.path.join(os.getcwd(), \"weight\", \"checkpoint-500\")\n",
    "model = PeftModel.from_pretrained(model, model_id=lora_weight)"
   ]
  },
  {
   "cell_type": "code",
   "execution_count": 5,
   "id": "ba20eab1",
   "metadata": {},
   "outputs": [],
   "source": [
    "# 合并模型\n",
    "save_path = os.path.join(os.getcwd(), \"weight\", \"merge_weight\")\n",
    "merge_model = model.merge_and_unload()\n",
    "merge_model.save_pretrained(save_path)"
   ]
  },
  {
   "cell_type": "markdown",
   "id": "2c4515d5",
   "metadata": {},
   "source": [
    "# 模型测试"
   ]
  },
  {
   "cell_type": "code",
   "execution_count": 13,
   "id": "20d849d6",
   "metadata": {},
   "outputs": [
    {
     "data": {
      "application/vnd.jupyter.widget-view+json": {
       "model_id": "07cdce8d14994395b987c13f5b41dd9f",
       "version_major": 2,
       "version_minor": 0
      },
      "text/plain": [
       "Loading checkpoint shards:   0%|          | 0/2 [00:00<?, ?it/s]"
      ]
     },
     "metadata": {},
     "output_type": "display_data"
    }
   ],
   "source": [
    "from transformers import AutoModelForCausalLM, AutoTokenizer\n",
    "import os \n",
    "import torch\n",
    "\n",
    "weight_path = os.path.join(os.getcwd(), \"weight\", \"merge_weight\")\n",
    "model = AutoModelForCausalLM.from_pretrained(weight_path)\n",
    "tokenizer = AutoTokenizer.from_pretrained(\"Qwen/Qwen2.5-1.5B-Instruct\")"
   ]
  },
  {
   "cell_type": "code",
   "execution_count": 14,
   "id": "e7d9427e",
   "metadata": {},
   "outputs": [
    {
     "data": {
      "text/plain": [
       "device(type='cuda', index=0)"
      ]
     },
     "execution_count": 14,
     "metadata": {},
     "output_type": "execute_result"
    }
   ],
   "source": [
    "model.to(\"cuda\")\n",
    "model.device"
   ]
  },
  {
   "cell_type": "code",
   "execution_count": 17,
   "id": "3a9b4ac7",
   "metadata": {},
   "outputs": [],
   "source": [
    "instruction = \"你是文本分类领域的专家，我将会给你一段文本和几个潜在的文本分类选项，请根据文本内容输出正确的文本类型。\"\n",
    "input = \"文本:航空动力学报JOURNAL OF AEROSPACE POWER1998年 第4期 No.4 1998科技期刊管路系统敷设的并行工程模型研究*陈志英*　*　马　枚北京航空航天大学【摘要】　提出了一种应用于并行工程模型转换研究的标号法，该法是将现行串行设计过程(As-is)转换为并行设计过程(To-be)。本文应用该法将发动机外部管路系统敷设过程模型进行了串并行转换，应用并行工程过程重构的手段，得到了管路敷设并行过程模型。\"\n",
    "category = \"\"\n",
    "\n",
    "message = [\n",
    "    {\"role\": \"system\", \"content\": instruction},\n",
    "    {\"role\": \"user\", \"content\": input}\n",
    "]"
   ]
  },
  {
   "cell_type": "code",
   "execution_count": 25,
   "id": "42130832",
   "metadata": {},
   "outputs": [],
   "source": [
    "def predict(message):\n",
    "    prompt = tokenizer.apply_chat_template(message, tokenize=False, add_generation_prompt=True)\n",
    "    model_inputs = tokenizer([prompt], return_tensors=\"pt\")\n",
    "    model_inputs = {k: v.to(model.device) for k, v in model_inputs.items()}\n",
    "\n",
    "    with torch.inference_mode():\n",
    "        output = model.generate(**model_inputs, max_new_tokens=512)\n",
    "        print(output)\n",
    "        result = tokenizer.decode(output[0, model_inputs[\"input_ids\"].shape[1]:], skip_special_tokens=True)\n",
    "    \n",
    "    return result"
   ]
  },
  {
   "cell_type": "code",
   "execution_count": 26,
   "id": "aa6bdb1b",
   "metadata": {},
   "outputs": [
    {
     "name": "stdout",
     "output_type": "stream",
     "text": [
      "tensor([[151644,   8948,    198, 105043, 108704,  70538, 104799, 101057,   3837,\n",
      "          35946, 104347, 104314, 104383, 108704,  33108, 100204, 106362,   9370,\n",
      "         108704,  70538, 109487,  37945, 100345, 108704,  43815,  66017, 105045,\n",
      "         108704,  31905,   1773, 151645,    198, 151644,    872,    198, 108704,\n",
      "             25, 101276, 100738,  47764,  42278,     41,  94699,   3008,    362,\n",
      "            640,   3126,  23383,  42637,     16,     24,     24,     23,   7948,\n",
      "          50331,     19,  22704,   2308,     13,     19,    220,     16,     24,\n",
      "             24,     23,  99602, 109862,  35551,  45995,  72448, 107659,  29635,\n",
      "           9370,  62926,  22243,  99655, 104949,  99556,      9, 100348,  77128,\n",
      "          82847,      9,  22441,      9,  22441,  99313,  22441, 102991,  68990,\n",
      "         117792,  99562,  10904, 106208,  10958,  22441, 101080,  99593,  86402,\n",
      "         110645,  62926,  22243,  99655, 104949, 105359,  99556,   9370,  30844,\n",
      "          17992,  24339,   3837,  75882,  24339,  20412,  44063, 110971,  51575,\n",
      "          22243,  70500, 100178,      7,   2121,  30430,      8, 105359,  17714,\n",
      "          62926,  22243,  70500, 100178,      7,   1249,  15150,      8,   1773,\n",
      "         104817,  99892,  75882,  24339,  44063, 104798, 105413,  35551,  45995,\n",
      "          72448, 107659,  29635, 100178, 104949, 103993,  51575,  62926,  22243,\n",
      "         105359,   3837,  99892,  62926,  22243,  99655, 100178, 118027,   9370,\n",
      "         104085,   3837, 104513,  35551,  45995, 107659,  29635,  62926,  22243,\n",
      "         100178, 104949,   1773, 151645,    198, 151644,  77091,    198,  99602,\n",
      "         151645]], device='cuda:0')\n"
     ]
    },
    {
     "data": {
      "text/plain": [
       "'科技'"
      ]
     },
     "execution_count": 26,
     "metadata": {},
     "output_type": "execute_result"
    }
   ],
   "source": [
    "predict(message)"
   ]
  }
 ],
 "metadata": {
  "kernelspec": {
   "display_name": "transformer",
   "language": "python",
   "name": "python3"
  },
  "language_info": {
   "codemirror_mode": {
    "name": "ipython",
    "version": 3
   },
   "file_extension": ".py",
   "mimetype": "text/x-python",
   "name": "python",
   "nbconvert_exporter": "python",
   "pygments_lexer": "ipython3",
   "version": "3.9.23"
  }
 },
 "nbformat": 4,
 "nbformat_minor": 5
}
